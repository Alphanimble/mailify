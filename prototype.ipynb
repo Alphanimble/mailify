{
 "cells": [
  {
   "cell_type": "code",
   "execution_count": 4,
   "id": "b7a93a08-462b-4508-83a0-581da394dc26",
   "metadata": {},
   "outputs": [],
   "source": [
    "# Import necessary libraries\n",
    "from pymongo import MongoClient\n",
    "from bson.objectid import ObjectId\n",
    "import json\n",
    "import re"
   ]
  },
  {
   "cell_type": "code",
   "execution_count": 6,
   "id": "a6196ee1-764e-42ed-b89c-5db0ddb33f27",
   "metadata": {},
   "outputs": [],
   "source": [
    "# Connect to the MongoDB database\n",
    "client = MongoClient('mongodb://localhost:27017/')\n",
    "db = client['emails']\n",
    "collection = db['complete_details']\n",
    "api_response_collection = db['api_response']"
   ]
  },
  {
   "cell_type": "code",
   "execution_count": 8,
   "id": "b1426b5d-ff8c-4f60-ab0d-26010968d933",
   "metadata": {},
   "outputs": [],
   "source": [
    "# Specify which document to retrieve\n",
    "n = 9  # Change this number to retrieve different documents\n",
    "\n",
    "# Retrieve the document\n",
    "document = collection.find().skip(n - 1).limit(1)"
   ]
  },
  {
   "cell_type": "code",
   "execution_count": 10,
   "id": "e79c7a6c-93bb-4989-93ce-63efb91c8aa3",
   "metadata": {},
   "outputs": [],
   "source": [
    "# Initialize a variable to hold document details\n",
    "document_detail = \"\""
   ]
  },
  {
   "cell_type": "code",
   "execution_count": 12,
   "id": "f2213f74-cbb4-4054-ab43-b5c962ad69c5",
   "metadata": {},
   "outputs": [],
   "source": [
    "# Iterate through the document cursor\n",
    "for docs in document:\n",
    "    # Convert the document to a JSON string\n",
    "    document_detail = json.dumps(docs, default=str)"
   ]
  },
  {
   "cell_type": "code",
   "execution_count": 14,
   "id": "0a3ecbe0-8b61-48d4-a7ba-8a4b63c783dc",
   "metadata": {},
   "outputs": [
    {
     "name": "stdout",
     "output_type": "stream",
     "text": [
      "{\"_id\": \"6708a9fc2a972ccfae483e7d\", \"file\": \"allen-p/_sent_mail/101.\", \"message\": \"Message-ID: <20641191.1075855687472.JavaMail.evans@thyme>\\nDate: Tue, 17 Oct 2000 02:26:00 -0700 (PDT)\\nFrom: phillip.allen@enron.com\\nTo: mark.scott@enron.com\\nSubject: Re: High Speed Internet Access\\nMime-Version: 1.0\\nContent-Type: text/plain; charset=us-ascii\\nContent-Transfer-Encoding: 7bit\\nX-From: Phillip K Allen\\nX-To: Mark Scott\\nX-cc: \\nX-bcc: \\nX-Folder: \\\\Phillip_Allen_Dec2000\\\\Notes Folders\\\\'sent mail\\nX-Origin: Allen-P\\nX-FileName: pallen.nsf\\n\\n1. login:  pallen pw: ke9davis\\n\\n I don't think these are required by the ISP \\n\\n  2.  static IP address\\n\\n IP: 64.216.90.105\\n Sub: 255.255.255.248\\n gate: 64.216.90.110\\n DNS: 151.164.1.8\\n\\n  3.  Company: 0413\\n        RC:  105891\"}\n"
     ]
    }
   ],
   "source": [
    "print(document_detail)"
   ]
  },
  {
   "cell_type": "code",
   "execution_count": 16,
   "id": "969aaec2-a111-4945-9661-b9ffd43b8261",
   "metadata": {},
   "outputs": [
    {
     "name": "stdout",
     "output_type": "stream",
     "text": [
      "ID: 6708a9fc2a972ccfae483e7d\n",
      "File: allen-p/_sent_mail/101.\n",
      "Message:\n",
      "Message-ID: <20641191.1075855687472.JavaMail.evans@thyme>\n",
      "Date: Tue, 17 Oct 2000 02:26:00 -0700 (PDT)\n",
      "From: phillip.allen@enron.com\n",
      "To: mark.scott@enron.com\n",
      "Subject: Re: High Speed Internet Access\n",
      "Mime-Version: 1.0\n",
      "Content-Type: text/plain; charset=us-ascii\n",
      "Content-Transfer-Encoding: 7bit\n",
      "X-From: Phillip K Allen\n",
      "X-To: Mark Scott\n",
      "X-cc: \n",
      "X-bcc: \n",
      "X-Folder: \\Phillip_Allen_Dec2000\\Notes Folders\\'sent mail\n",
      "X-Origin: Allen-P\n",
      "X-FileName: pallen.nsf\n",
      "\n",
      "1. login:  pallen pw: ke9davis\n",
      "\n",
      " I don't think these are required by the ISP \n",
      "\n",
      "  2.  static IP address\n",
      "\n",
      " IP: 64.216.90.105\n",
      " Sub: 255.255.255.248\n",
      " gate: 64.216.90.110\n",
      " DNS: 151.164.1.8\n",
      "\n",
      "  3.  Company: 0413\n",
      "        RC:  105891\n"
     ]
    }
   ],
   "source": [
    "# Load JSON\n",
    "data = json.loads(document_detail)\n",
    "\n",
    "# Print the content in plain text format\n",
    "print(f\"ID: {data['_id']}\")\n",
    "print(f\"File: {data['file']}\")\n",
    "print(\"Message:\")\n",
    "print(data['message'].replace('\\\\n', '\\n'))"
   ]
  },
  {
   "cell_type": "code",
   "execution_count": 153,
   "id": "4183681e-619a-46af-b6f8-b547bbb9b6ce",
   "metadata": {},
   "outputs": [],
   "source": [
    "# Convert the JSON string to a dictionary\n",
    "data = json.loads(document_detail)\n",
    "\n",
    "# Extract the 'message' field\n",
    "message = data.get(\"message\", \"\")\n"
   ]
  },
  {
   "cell_type": "code",
   "execution_count": 155,
   "id": "6bd42bf9-4906-418c-bb74-33a100adf51e",
   "metadata": {},
   "outputs": [],
   "source": [
    "# Initialize a dictionary to hold the parsed fields\n",
    "parsed_data = {}\n",
    "\n",
    "# Define a regex pattern to find key-value pairs in the message\n",
    "pattern = re.compile(r'^([A-Za-z\\-]+):\\s*(.+)', re.MULTILINE)\n"
   ]
  },
  {
   "cell_type": "code",
   "execution_count": 157,
   "id": "6674aee1-2430-4df9-b8c6-589e0df9fce1",
   "metadata": {},
   "outputs": [],
   "source": [
    "# Find all matches and add them to the parsed_data dictionary\n",
    "for match in pattern.finditer(message):\n",
    "    key = match.group(1).strip()  # Extract the key\n",
    "    value = match.group(2).strip()  # Extract the value\n",
    "\n",
    "    # Add the key-value pair to the dictionary\n",
    "    if key in parsed_data:\n",
    "        # If the key already exists, convert it to a list if not already\n",
    "        if not isinstance(parsed_data[key], list):\n",
    "            parsed_data[key] = [parsed_data[key]]\n",
    "        parsed_data[key].append(value)  # Append the new value\n",
    "    else:\n",
    "        parsed_data[key] = value  # Add new key-value pair\n"
   ]
  },
  {
   "cell_type": "code",
   "execution_count": 159,
   "id": "214c7001-4263-48a2-a3c1-501bb587f978",
   "metadata": {},
   "outputs": [],
   "source": [
    "# Include other fields from the main document if necessary\n",
    "parsed_data['_id'] = data.get('_id', \"\")\n",
    "parsed_data['file'] = data.get('file', \"\")\n",
    "\n",
    "# Find the index of the first blank line to determine where the body starts\n",
    "body_start_index = message.find('\\n\\n')  # Look for the first occurrence of double newline\n",
    "\n",
    "if body_start_index != -1:\n",
    "    # Extract the body of the email, starting after the blank line\n",
    "    body = message[body_start_index + 2:].strip()  # Skip the blank line\n",
    "    parsed_data['Unstructured-Text'] = body  # Add the body as unstructured text\n",
    "else:\n",
    "    # If no blank line is found, set unstructured text as empty\n",
    "    parsed_data['Unstructured-Text'] = \"\"\n"
   ]
  },
  {
   "cell_type": "code",
   "execution_count": 161,
   "id": "c8c4b11b-99a6-4cfe-a1c9-6fcc573701ae",
   "metadata": {},
   "outputs": [
    {
     "name": "stdout",
     "output_type": "stream",
     "text": [
      "{'Message-ID': '<33307764.1075855696139.JavaMail.evans@thyme>', 'Date': 'Fri, 16 Mar 2001 04:28:00 -0800 (PST)', 'From': 'phillip.allen@enron.com', 'To': 'jacquestc@aol.com', 'Subject': 'Mime-Version: 1.0', 'Content-Type': 'text/plain; charset=us-ascii', 'Content-Transfer-Encoding': '7bit', 'X-From': 'Phillip K Allen', 'X-To': 'jacquestc@aol.com', 'X-cc': 'X-bcc:', 'X-Folder': '\\\\Phillip_Allen_June2001\\\\Notes Folders\\\\All documents', 'X-Origin': 'Allen-P', 'X-FileName': 'pallen.nsf', '_id': '6708a9fc2a972ccfae48425b', 'file': 'allen-p/all_documents/460.', 'Unstructured-Text': \"Jacques,\\n\\nI think we reached an agreement with George and Larry to pick up the items of \\nvalue and not pay any fees for their time.  It looks as if we will be able to \\nuse everything they have done (engineering, architecture, survey, \\nappraisal).  One point that is unclear is they claim that the $15,000 in \\nextensions that they paid was applied to the purchase price of the land like \\nearnest money would be applied.  I looked at the closing statements and I \\ndidn't see $15,000 applied against the purchase price.  Can you help clear \\nthis up.\\n\\nAssuming we clear up the $15,000, we need to get the property released.  \\nKeith and I are concerned about taking over the Bishop Corner partnership and \\nthe risk that there could be undisclosed liabilities.  On the other hand, \\nconveyance of the partnership would be a time and money saver if it was \\nclean.  What is your inclination?\\n\\nCall as soon as you have a chance to review.\\n\\nPhillip\"}\n"
     ]
    }
   ],
   "source": [
    "# Print the parsed data as a dictionary\n",
    "print(parsed_data)\n"
   ]
  },
  {
   "cell_type": "code",
   "execution_count": 163,
   "id": "0957526c-a95a-4a8b-ad9f-92bc06d6e3af",
   "metadata": {},
   "outputs": [],
   "source": [
    "result_string = (\n",
    "    f\"\\nMessage-ID: \\t {parsed_data['Message-ID']}\"\n",
    "    f\"\\nFrom: \\t {parsed_data['From']}\"\n",
    "    f\"\\nSubject: \\t {parsed_data['Subject']}\"\n",
    "    f\"\\nDate: \\t {parsed_data['Date']}\"\n",
    "    f\"\\nBody: \\t {parsed_data['Unstructured-Text']}\"\n",
    ")"
   ]
  },
  {
   "cell_type": "code",
   "execution_count": 165,
   "id": "0e3ffc4c-4a44-4406-b514-6abf3d2d339f",
   "metadata": {},
   "outputs": [
    {
     "name": "stdout",
     "output_type": "stream",
     "text": [
      "\n",
      "Message-ID: \t <33307764.1075855696139.JavaMail.evans@thyme>\n",
      "From: \t phillip.allen@enron.com\n",
      "Subject: \t Mime-Version: 1.0\n",
      "Date: \t Fri, 16 Mar 2001 04:28:00 -0800 (PST)\n",
      "Body: \t Jacques,\n",
      "\n",
      "I think we reached an agreement with George and Larry to pick up the items of \n",
      "value and not pay any fees for their time.  It looks as if we will be able to \n",
      "use everything they have done (engineering, architecture, survey, \n",
      "appraisal).  One point that is unclear is they claim that the $15,000 in \n",
      "extensions that they paid was applied to the purchase price of the land like \n",
      "earnest money would be applied.  I looked at the closing statements and I \n",
      "didn't see $15,000 applied against the purchase price.  Can you help clear \n",
      "this up.\n",
      "\n",
      "Assuming we clear up the $15,000, we need to get the property released.  \n",
      "Keith and I are concerned about taking over the Bishop Corner partnership and \n",
      "the risk that there could be undisclosed liabilities.  On the other hand, \n",
      "conveyance of the partnership would be a time and money saver if it was \n",
      "clean.  What is your inclination?\n",
      "\n",
      "Call as soon as you have a chance to review.\n",
      "\n",
      "Phillip\n"
     ]
    }
   ],
   "source": [
    "print(result_string)"
   ]
  },
  {
   "cell_type": "code",
   "execution_count": 251,
   "id": "23c3f28d-48cf-41c6-9949-dcf7684584bb",
   "metadata": {},
   "outputs": [],
   "source": [
    "import os\n",
    "from mistralai import Mistral\n",
    "\n",
    "api_key = \"IzwdiP0W04dwKFs1hRB3Mex6yhqHjPVV\"\n",
    "model = \"mistral-large-latest\"\n",
    "\n",
    "client = Mistral(api_key=api_key)\n",
    "\n",
    "def summarize_text(input_text):\n",
    "    prompt = f\"Please summarize the following text into 20 words and provide a new heading, separate both them by new line do not give any sub-headings like Subject or Summary:\\n\\n{input_text}\"\n",
    "    \n",
    "    chat_response = client.chat.complete(\n",
    "        model=model,\n",
    "        messages=[\n",
    "            {\n",
    "                \"role\": \"user\",\n",
    "                \"content\": prompt,\n",
    "            },\n",
    "        ]\n",
    "    )\n",
    "    \n",
    "    return chat_response.choices[0].message.content"
   ]
  },
  {
   "cell_type": "code",
   "execution_count": 252,
   "id": "6318ce95-24a3-480f-9ad0-2549190fc85e",
   "metadata": {},
   "outputs": [
    {
     "name": "stdout",
     "output_type": "stream",
     "text": [
      "**Enron Land Deal Query**\n",
      "\n",
      "Phillip seeks Jacques' help to clarify $15,000 discrepancy and decide on Bishop Corner partnership takeover.\n"
     ]
    }
   ],
   "source": [
    "# Get the summary of the message\n",
    "summary_output = summarize_text(result_string)\n",
    "print(summary_output)"
   ]
  },
  {
   "cell_type": "code",
   "execution_count": 265,
   "id": "24111a4b-e63a-4c2a-bedb-690aa745c6d3",
   "metadata": {},
   "outputs": [],
   "source": [
    "# Prepare the new document to be inserted into the api_response collection\n",
    "new_response = {\n",
    "    \"Message-ID\": parsed_data.get(\"Message-ID\", \"\"),\n",
    "    \"From\": parsed_data.get(\"From\", \"\"),\n",
    "    \"To\": parsed_data.get(\"To\", \"\"),  # Ensure 'To' is included if it's available\n",
    "    \"Subject\": summary_output.split('\\n')[0],  # Use the first line of the summary as the subject\n",
    "    \"Summarized-Body\": summary_output.split('\\n')[2]  # The entire summary as the body\n",
    "}"
   ]
  },
  {
   "cell_type": "code",
   "execution_count": 271,
   "id": "be71376f-4c4a-46e5-8021-58413da00d5e",
   "metadata": {},
   "outputs": [
    {
     "name": "stdout",
     "output_type": "stream",
     "text": [
      "\n",
      "Message-ID: \t <33307764.1075855696139.JavaMail.evans@thyme>\n",
      "From: \t phillip.allen@enron.com\n",
      "To: \t jacquestc@aol.com\n",
      "Subject: \t **Enron Land Deal Query**\n",
      "Summary: \t Phillip seeks Jacques' help to clarify $15,000 discrepancy and decide on Bishop Corner partnership takeover.\n"
     ]
    }
   ],
   "source": [
    "print(f\"\\nMessage-ID: \\t {new_response['Message-ID']}\"\n",
    "    f\"\\nFrom: \\t {new_response['From']}\"\n",
    "    f\"\\nTo: \\t {new_response['To']}\"\n",
    "    f\"\\nSubject: \\t {new_response['Subject']}\"\n",
    "    f\"\\nSummary: \\t {new_response['Summarized-Body']}\")"
   ]
  },
  {
   "cell_type": "code",
   "execution_count": 273,
   "id": "47fa1637-0ee6-4693-aaaf-ccd301f9b074",
   "metadata": {},
   "outputs": [
    {
     "data": {
      "text/plain": [
       "InsertOneResult(ObjectId('670cc6cd77e5fb11e9592719'), acknowledged=True)"
      ]
     },
     "execution_count": 273,
     "metadata": {},
     "output_type": "execute_result"
    }
   ],
   "source": [
    "# Insert the new document into the api_response collection\n",
    "api_response_collection.insert_one(new_response)"
   ]
  },
  {
   "cell_type": "code",
   "execution_count": 275,
   "id": "f797dfb8-c43f-4a5c-9693-614b5cdce124",
   "metadata": {},
   "outputs": [
    {
     "name": "stdout",
     "output_type": "stream",
     "text": [
      "New response added to 'api_response': {'Message-ID': '<33307764.1075855696139.JavaMail.evans@thyme>', 'From': 'phillip.allen@enron.com', 'To': 'jacquestc@aol.com', 'Subject': '**Enron Land Deal Query**', 'Summarized-Body': \"Phillip seeks Jacques' help to clarify $15,000 discrepancy and decide on Bishop Corner partnership takeover.\", '_id': ObjectId('670cc6cd77e5fb11e9592719')}\n"
     ]
    }
   ],
   "source": [
    "# Print the new response document\n",
    "print(\"New response added to 'api_response':\", new_response)"
   ]
  },
  {
   "cell_type": "code",
   "execution_count": null,
   "id": "6a60578c-4725-462e-b86a-e62bcb2dbc2c",
   "metadata": {},
   "outputs": [],
   "source": []
  }
 ],
 "metadata": {
  "kernelspec": {
   "display_name": "Python 3 (ipykernel)",
   "language": "python",
   "name": "python3"
  },
  "language_info": {
   "codemirror_mode": {
    "name": "ipython",
    "version": 3
   },
   "file_extension": ".py",
   "mimetype": "text/x-python",
   "name": "python",
   "nbconvert_exporter": "python",
   "pygments_lexer": "ipython3",
   "version": "3.12.4"
  }
 },
 "nbformat": 4,
 "nbformat_minor": 5
}
