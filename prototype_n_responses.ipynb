{
 "cells": [
  {
   "cell_type": "code",
   "execution_count": 3,
   "id": "09e94b01-b928-4714-8797-f471bf0b4d0e",
   "metadata": {},
   "outputs": [],
   "source": [
    "# Import necessary libraries\n",
    "from pymongo import MongoClient\n",
    "import json\n",
    "import re\n",
    "from mistralai import Mistral"
   ]
  },
  {
   "cell_type": "code",
   "execution_count": 5,
   "id": "82267723-ebf0-4d51-9618-339ca026f846",
   "metadata": {},
   "outputs": [],
   "source": [
    "# Connect to the MongoDB database\n",
    "client = MongoClient('mongodb://localhost:27017/')\n",
    "db = client['emails']\n",
    "collection = db['complete_details']\n",
    "api_response_collection = db['for-bulk']"
   ]
  },
  {
   "cell_type": "code",
   "execution_count": 25,
   "id": "15846733-95a9-4586-b7ac-aab41493ab4c",
   "metadata": {},
   "outputs": [],
   "source": [
    "# Specify how many documents to process\n",
    "num_documents_to_process = 3\n",
    "\n",
    "# Retrieve the documents\n",
    "documents = collection.find().limit(num_documents_to_process)"
   ]
  },
  {
   "cell_type": "code",
   "execution_count": 27,
   "id": "3e8fdab2-cbad-4297-85dc-d7a478888a8b",
   "metadata": {},
   "outputs": [],
   "source": [
    "# Initialize Mistral client\n",
    "api_key = \"IzwdiP0W04dwKFs1hRB3Mex6yhqHjPVV\"\n",
    "model = \"mistral-large-latest\"\n",
    "client = Mistral(api_key=api_key)"
   ]
  },
  {
   "cell_type": "code",
   "execution_count": 29,
   "id": "f64b6fe6-29a6-49de-a4ba-d665758d3473",
   "metadata": {},
   "outputs": [],
   "source": [
    "def summarize_text(input_text):\n",
    "    prompt = f\"Please summarize the following text into 20 words and provide a new heading, separate both of them by two new lines do not give any sub-headings like Subject or Summary:\\n\\n{input_text}\"\n",
    "    \n",
    "    chat_response = client.chat.complete(\n",
    "        model=model,\n",
    "        messages=[\n",
    "            {\n",
    "                \"role\": \"user\",\n",
    "                \"content\": prompt,\n",
    "            },\n",
    "        ]\n",
    "    )\n",
    "    return chat_response.choices[0].message.content"
   ]
  },
  {
   "cell_type": "code",
   "execution_count": 31,
   "id": "65a3a4b7-0dae-4c4e-b906-8e888db0c02a",
   "metadata": {},
   "outputs": [
    {
     "name": "stdout",
     "output_type": "stream",
     "text": [
      "\n",
      "Message-ID: \t <18782981.1075855378110.JavaMail.evans@thyme>\n",
      "From: \t phillip.allen@enron.com\n",
      "Subject: \t Mime-Version: 1.0\n",
      "Date: \t Mon, 14 May 2001 16:39:00 -0700 (PDT)\n",
      "Body: \t Here is our forecast\n",
      "New response added to 'api_response': {'Message-ID': '<18782981.1075855378110.JavaMail.evans@thyme>', 'From': 'phillip.allen@enron.com', 'To': 'tim.belden@enron.com', 'Subject': '**Enron Forecast Submitted**', 'Summarized-Body': 'Phillip Allen shares forecast on May 14, 2001.', '_id': ObjectId('670cea7e3b9c33f4ab7b0739')}\n",
      "\n",
      "Message-ID: \t <15464986.1075855378456.JavaMail.evans@thyme>\n",
      "From: \t phillip.allen@enron.com\n",
      "Subject: \t Re:\n",
      "Date: \t Fri, 4 May 2001 13:51:00 -0700 (PDT)\n",
      "Body: \t Traveling to have a business meeting takes the fun out of the trip.  Especially if you have to prepare a presentation.  I would suggest holding the business plan meetings here then take a trip without any formal business meetings.  I would even try and get some honest opinions on whether a trip is even desired or necessary.\n",
      "\n",
      "As far as the business meetings, I think it would be more productive to try and stimulate discussions across the different groups about what is working and what is not.  Too often the presenter speaks and the others are quiet just waiting for their turn.   The meetings might be better if held in a round table discussion format.  \n",
      "\n",
      "My suggestion for where to go is Austin.  Play golf and rent a ski boat and jet ski's.  Flying somewhere takes too much time.\n",
      "New response added to 'api_response': {'Message-ID': '<15464986.1075855378456.JavaMail.evans@thyme>', 'From': 'phillip.allen@enron.com', 'To': 'john.lavorato@enron.com', 'Subject': '**Enron Employee Suggests Improving Business Meetings**', 'Summarized-Body': 'Traveling for business meetings can be unenjoyable, especially with presentations. Consider local, discussion-focused meetings and leisure trips to places like Austin.', '_id': ObjectId('670cea803b9c33f4ab7b073a')}\n",
      "\n",
      "Message-ID: \t <24216240.1075855687451.JavaMail.evans@thyme>\n",
      "From: \t phillip.allen@enron.com\n",
      "Subject: \t Re: test\n",
      "Date: \t Wed, 18 Oct 2000 03:00:00 -0700 (PDT)\n",
      "Body: \t test successful.  way to go!!!\n",
      "New response added to 'api_response': {'Message-ID': '<24216240.1075855687451.JavaMail.evans@thyme>', 'From': 'phillip.allen@enron.com', 'To': 'leah.arsdall@enron.com', 'Subject': 'Test Successful', 'Summarized-Body': \"Enron's Phillip Allen confirms test success.\", '_id': ObjectId('670cea813b9c33f4ab7b073b')}\n"
     ]
    }
   ],
   "source": [
    "# Iterate through the documents\n",
    "for docs in documents:\n",
    "    # Convert the document to a JSON string\n",
    "    document_detail = json.dumps(docs, default=str)\n",
    "    # Load JSON\n",
    "    data = json.loads(document_detail)\n",
    "\n",
    "    # Extract the 'message' field\n",
    "    message = data.get(\"message\", \"\")\n",
    "    # Initialize a dictionary to hold the parsed fields\n",
    "    parsed_data = {}\n",
    "\n",
    "    # Define a regex pattern to find key-value pairs in the message\n",
    "    pattern = re.compile(r'^([A-Za-z\\-]+):\\s*(.+)', re.MULTILINE)\n",
    "    \n",
    "    # Find all matches and add them to the parsed_data dictionary\n",
    "    for match in pattern.finditer(message):\n",
    "        key = match.group(1).strip()  # Extract the key\n",
    "        value = match.group(2).strip()  # Extract the value\n",
    "\n",
    "        # Add the key-value pair to the dictionary\n",
    "        if key in parsed_data:\n",
    "            # If the key already exists, convert it to a list if not already\n",
    "            if not isinstance(parsed_data[key], list):\n",
    "                parsed_data[key] = [parsed_data[key]]\n",
    "            parsed_data[key].append(value)  # Append the new value\n",
    "        else:\n",
    "            parsed_data[key] = value  # Add new key-value pair\n",
    "\n",
    "    # Include other fields from the main document if necessary\n",
    "    parsed_data['_id'] = data.get('_id', \"\")\n",
    "    parsed_data['file'] = data.get('file', \"\")\n",
    "\n",
    "    # Find the index of the first blank line to determine where the body starts\n",
    "    body_start_index = message.find('\\n\\n')  # Look for the first occurrence of double newline\n",
    "\n",
    "    if body_start_index != -1:\n",
    "        # Extract the body of the email, starting after the blank line\n",
    "        body = message[body_start_index + 2:].strip()  # Skip the blank line\n",
    "        parsed_data['Unstructured-Text'] = body  # Add the body as unstructured text\n",
    "    else:\n",
    "        # If no blank line is found, set unstructured text as empty\n",
    "        parsed_data['Unstructured-Text'] = \"\"\n",
    "\n",
    "    # Prepare the result string for summarization\n",
    "    result_string = (\n",
    "        f\"\\nMessage-ID: \\t {parsed_data['Message-ID']}\"\n",
    "        f\"\\nFrom: \\t {parsed_data['From']}\"\n",
    "        f\"\\nSubject: \\t {parsed_data['Subject']}\"\n",
    "        f\"\\nDate: \\t {parsed_data['Date']}\"\n",
    "        f\"\\nBody: \\t {parsed_data['Unstructured-Text']}\"\n",
    "    )\n",
    "    print(result_string)\n",
    "    # Get the summary of the message\n",
    "    summary_output = summarize_text(result_string)\n",
    "    \n",
    "    # Prepare the new document to be inserted into the api_response collection\n",
    "    new_response = {\n",
    "        \"Message-ID\": parsed_data[\"Message-ID\"],\n",
    "        \"From\": parsed_data[\"From\"],\n",
    "        \"To\": parsed_data[\"To\"],  # Ensure 'To' is included if it's available\n",
    "        \"Subject\": summary_output.split('\\n')[0],  # Use the first line of the summary as the subject\n",
    "        \"Summarized-Body\": summary_output.split('\\n')[2]  # The entire summary as the body\n",
    "    }\n",
    "\n",
    "    # Insert the new document into the api_response collection\n",
    "    api_response_collection.insert_one(new_response)\n",
    "\n",
    "    # Print the new response document for each processed email\n",
    "    print(f\"New response added to 'api_response': {new_response}\")"
   ]
  },
  {
   "cell_type": "code",
   "execution_count": 33,
   "id": "a274daee-c337-43b8-8e24-314e279a6bee",
   "metadata": {},
   "outputs": [
    {
     "name": "stdout",
     "output_type": "stream",
     "text": [
      "3 new responses added to 'api_response'.\n"
     ]
    }
   ],
   "source": [
    "# Print the total number of new responses added\n",
    "print(f\"{num_documents_to_process} new responses added to 'api_response'.\")"
   ]
  },
  {
   "cell_type": "code",
   "execution_count": null,
   "id": "9a1a42ab-a786-4f6b-a787-87da6f0fd06d",
   "metadata": {},
   "outputs": [],
   "source": []
  }
 ],
 "metadata": {
  "kernelspec": {
   "display_name": "Python 3 (ipykernel)",
   "language": "python",
   "name": "python3"
  },
  "language_info": {
   "codemirror_mode": {
    "name": "ipython",
    "version": 3
   },
   "file_extension": ".py",
   "mimetype": "text/x-python",
   "name": "python",
   "nbconvert_exporter": "python",
   "pygments_lexer": "ipython3",
   "version": "3.12.4"
  }
 },
 "nbformat": 4,
 "nbformat_minor": 5
}
